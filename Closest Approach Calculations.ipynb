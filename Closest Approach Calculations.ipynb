{
 "cells": [
  {
   "cell_type": "code",
   "execution_count": 29,
   "metadata": {
    "collapsed": true
   },
   "outputs": [],
   "source": [
    "import numpy as np\n",
    "import matplotlib.pyplot as plt\n",
    "from astropy.table import Table"
   ]
  },
  {
   "cell_type": "code",
   "execution_count": 32,
   "metadata": {
    "collapsed": true
   },
   "outputs": [],
   "source": [
    "Astropy_Table = Table.read('Closest_Approaches.csv')"
   ]
  },
  {
   "cell_type": "code",
   "execution_count": 35,
   "metadata": {},
   "outputs": [],
   "source": [
    "mean_no_force, std_no_force = np.mean(Astropy_Table['Closest Approach - No Force (AU)']), np.std(Astropy_Table['Closest Approach - No Force (AU)'])"
   ]
  },
  {
   "cell_type": "code",
   "execution_count": 36,
   "metadata": {},
   "outputs": [
    {
     "name": "stdout",
     "output_type": "stream",
     "text": [
      "The mean value of the closest approach is:  0.0020657 AU and the uncertainty in the measurement is:  0.000161126689285 AU\n"
     ]
    }
   ],
   "source": [
    "print(\"The mean value of the closest approach is: \", mean_no_force, \"AU and the uncertainty in the measurement is: \", std_no_force, \"AU\")"
   ]
  },
  {
   "cell_type": "code",
   "execution_count": 37,
   "metadata": {
    "collapsed": true
   },
   "outputs": [],
   "source": [
    "mean_force, std_force = np.mean(Astropy_Table['Closest Approach - Force (AU)']), np.std(Astropy_Table['Closest Approach - Force (AU)'])"
   ]
  },
  {
   "cell_type": "code",
   "execution_count": 38,
   "metadata": {},
   "outputs": [
    {
     "name": "stdout",
     "output_type": "stream",
     "text": [
      "The mean value of the closest approach is:  0.0020657 AU and the uncertainty in the measurement is:  0.000161126689285 AU\n"
     ]
    }
   ],
   "source": [
    "print(\"The mean value of the closest approach is: \", mean_force, \"AU and the uncertainty in the measurement is: \", std_force, \"AU\")"
   ]
  },
  {
   "cell_type": "code",
   "execution_count": null,
   "metadata": {},
   "outputs": [],
   "source": []
  },
  {
   "cell_type": "code",
   "execution_count": null,
   "metadata": {
    "collapsed": true
   },
   "outputs": [],
   "source": []
  }
 ],
 "metadata": {
  "kernelspec": {
   "display_name": "Python 3",
   "language": "python",
   "name": "python3"
  },
  "language_info": {
   "codemirror_mode": {
    "name": "ipython",
    "version": 3
   },
   "file_extension": ".py",
   "mimetype": "text/x-python",
   "name": "python",
   "nbconvert_exporter": "python",
   "pygments_lexer": "ipython3",
   "version": "3.6.2"
  }
 },
 "nbformat": 4,
 "nbformat_minor": 2
}
